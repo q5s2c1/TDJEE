{
 "cells": [
  {
   "cell_type": "code",
   "execution_count": 1,
   "metadata": {},
   "outputs": [],
   "source": [
    "! createdb financial_event"
   ]
  },
  {
   "cell_type": "code",
   "execution_count": 2,
   "metadata": {},
   "outputs": [],
   "source": [
    "%load_ext autoreload\n",
    "%autoreload 2\n",
    "%matplotlib inline\n",
    "import os\n",
    "import sys\n",
    "import logging\n",
    "\n",
    "PARALLEL = 4 # assuming a quad-core machine\n",
    "ATTRIBUTE = \"financial_event\"\n",
    "conn_string = 'postgresql://localhost:5432/' + ATTRIBUTE"
   ]
  },
  {
   "cell_type": "code",
   "execution_count": 3,
   "metadata": {},
   "outputs": [
    {
     "name": "stderr",
     "output_type": "stream",
     "text": [
      "[2020-05-09 21:14:11,389][INFO] fonduer.meta:51 - Setting logging directory to: logs/2020-05-09_21-14-11\n",
      "[2020-05-09 21:14:11,455][INFO] fonduer.meta:135 - Connecting user:None to localhost:5432/financial_event\n",
      "[2020-05-09 21:14:13,973][INFO] fonduer.meta:162 - Initializing the storage schema\n"
     ]
    }
   ],
   "source": [
    "from fonduer import Meta, init_logging\n",
    "\n",
    "# Configure logging for Fonduer\n",
    "init_logging(log_dir=\"logs\")\n",
    "\n",
    "session = Meta.init(conn_string).Session()"
   ]
  },
  {
   "cell_type": "code",
   "execution_count": 45,
   "metadata": {},
   "outputs": [],
   "source": [
    "from fonduer.parser.preprocessors import HTMLDocPreprocessor\n",
    "from fonduer.parser import Parser\n",
    "\n",
    "docs_path = \"data/\"\n",
    "doc_preprocessor = HTMLDocPreprocessor(docs_path)"
   ]
  },
  {
   "cell_type": "code",
   "execution_count": 48,
   "metadata": {},
   "outputs": [
    {
     "name": "stderr",
     "output_type": "stream",
     "text": [
      "[2020-05-09 22:25:02,599][INFO] fonduer.utils.udf:68 - Running UDF...\n"
     ]
    },
    {
     "data": {
      "application/vnd.jupyter.widget-view+json": {
       "model_id": "dbe289fe5d944ba2ad2b3ff00afbef08",
       "version_major": 2,
       "version_minor": 0
      },
      "text/plain": [
       "HBox(children=(FloatProgress(value=0.0, max=2.0), HTML(value='')))"
      ]
     },
     "metadata": {},
     "output_type": "display_data"
    },
    {
     "name": "stderr",
     "output_type": "stream",
     "text": [
      "[2020-05-09 22:25:02,668][WARNING] fonduer.parser.parser:224 - Lingual mode will be turned off, as spacy doesn't provide support for this language (zh)\n",
      "[2020-05-09 22:25:02,673][WARNING] fonduer.parser.parser:224 - Lingual mode will be turned off, as spacy doesn't provide support for this language (zh)\n",
      "[2020-05-09 22:25:02,676][WARNING] fonduer.parser.parser:224 - Lingual mode will be turned off, as spacy doesn't provide support for this language (zh)\n",
      "[2020-05-09 22:25:02,678][WARNING] fonduer.parser.parser:224 - Lingual mode will be turned off, as spacy doesn't provide support for this language (zh)\n",
      "Building prefix dict from the default dictionary ...\n",
      "Building prefix dict from the default dictionary ...\n",
      "[2020-05-09 22:25:02,777][DEBUG] jieba:113 - Building prefix dict from the default dictionary ...\n",
      "[2020-05-09 22:25:02,775][DEBUG] jieba:113 - Building prefix dict from the default dictionary ...\n",
      "Loading model from cache /var/folders/fp/tf276mb96jv23y3jfxvvk29c0000gn/T/jieba.cache\n",
      "Loading model from cache /var/folders/fp/tf276mb96jv23y3jfxvvk29c0000gn/T/jieba.cache\n",
      "[2020-05-09 22:25:02,787][DEBUG] jieba:133 - Loading model from cache /var/folders/fp/tf276mb96jv23y3jfxvvk29c0000gn/T/jieba.cache\n",
      "[2020-05-09 22:25:02,790][DEBUG] jieba:133 - Loading model from cache /var/folders/fp/tf276mb96jv23y3jfxvvk29c0000gn/T/jieba.cache\n",
      "Loading model cost 0.778 seconds.\n",
      "Loading model cost 0.782 seconds.\n",
      "[2020-05-09 22:25:03,568][DEBUG] jieba:165 - Loading model cost 0.782 seconds.\n",
      "[2020-05-09 22:25:03,568][DEBUG] jieba:165 - Loading model cost 0.778 seconds.\n",
      "Prefix dict has been built successfully.\n",
      "Prefix dict has been built successfully.\n",
      "[2020-05-09 22:25:03,573][DEBUG] jieba:166 - Prefix dict has been built successfully.\n",
      "[2020-05-09 22:25:03,573][DEBUG] jieba:166 - Prefix dict has been built successfully.\n"
     ]
    },
    {
     "name": "stdout",
     "output_type": "stream",
     "text": [
      "\n",
      "CPU times: user 80.8 ms, sys: 56.5 ms, total: 137 ms\n",
      "Wall time: 1.21 s\n"
     ]
    }
   ],
   "source": [
    "corpus_parser = Parser(session, language='zh', structural=True, lingual=True, flatten=['br/'])\n",
    "%time corpus_parser.apply(doc_preprocessor, parallelism=PARALLEL)"
   ]
  },
  {
   "cell_type": "code",
   "execution_count": 49,
   "metadata": {},
   "outputs": [
    {
     "name": "stdout",
     "output_type": "stream",
     "text": [
      "Documents: 2\n",
      "Sentences: 51\n"
     ]
    }
   ],
   "source": [
    "from fonduer.parser.models import Document, Sentence\n",
    "\n",
    "print(f\"Documents: {session.query(Document).count()}\")\n",
    "print(f\"Sentences: {session.query(Sentence).count()}\")"
   ]
  },
  {
   "cell_type": "code",
   "execution_count": 21,
   "metadata": {},
   "outputs": [
    {
     "name": "stdout",
     "output_type": "stream",
     "text": [
      "['SZ001696_2013-07-12s', 'SH600283_2009-07-21_54901568s']\n"
     ]
    }
   ],
   "source": [
    "docs = session.query(Document).order_by(Document.name).all()\n",
    "ld = len(docs)\n",
    "\n",
    "train_docs = set()\n",
    "dev_docs = set()\n",
    "test_docs = set()\n",
    "splits = (0.7, 0.85)\n",
    "data = [(doc.name, doc) for doc in docs]\n",
    "data.sort(key=lambda x: x[0])\n",
    "for i, (doc_name, doc) in enumerate(data):\n",
    "    if i < splits[0] * ld:\n",
    "        train_docs.add(doc)\n",
    "    elif i < splits[1] * ld:\n",
    "        dev_docs.add(doc)\n",
    "    else:\n",
    "        test_docs.add(doc)\n",
    "from pprint import pprint\n",
    "\n",
    "pprint([x.name for x in train_docs])"
   ]
  },
  {
   "cell_type": "code",
   "execution_count": 27,
   "metadata": {},
   "outputs": [],
   "source": [
    "from fonduer.candidates.models import mention_subclass\n",
    "\n",
    "Presidentname = mention_subclass(\"Presidentname\")\n",
    "Placeofbirth = mention_subclass(\"Placeofbirth\")"
   ]
  },
  {
   "cell_type": "code",
   "execution_count": 50,
   "metadata": {},
   "outputs": [],
   "source": [
    "sens = session.query(Sentence).all()"
   ]
  },
  {
   "cell_type": "code",
   "execution_count": 51,
   "metadata": {},
   "outputs": [
    {
     "data": {
      "text/plain": [
       "[Sentence (Doc: 'SH600283_2009-07-21_54901568s', Sec: 0, Par: 0, Idx: 0, Text: '股票简称：钱江水利      股票代码：600283    编号：临 2009-012'),\n",
       " Sentence (Doc: 'SH600283_2009-07-21_54901568s', Sec: 0, Par: 1, Idx: 1, Text: '钱江水利开发股份有限公司'),\n",
       " Sentence (Doc: 'SH600283_2009-07-21_54901568s', Sec: 0, Par: 2, Idx: 2, Text: '关于第四大股东减持股份的公告'),\n",
       " Sentence (Doc: 'SH600283_2009-07-21_54901568s', Sec: 0, Par: 3, Idx: 3, Text: '本公司及董事会全体成员保证公告内容的真实、准确和完整，对'),\n",
       " Sentence (Doc: 'SH600283_2009-07-21_54901568s', Sec: 0, Par: 4, Idx: 4, Text: '公告的虚假记载、误导性陈述或者重大遗漏负连带责任。'),\n",
       " Sentence (Doc: 'SH600283_2009-07-21_54901568s', Sec: 0, Par: 5, Idx: 5, Text: '本公司于 2009 年 7 月 20 日接到第四大股东-上海倍臣水务发展'),\n",
       " Sentence (Doc: 'SH600283_2009-07-21_54901568s', Sec: 0, Par: 6, Idx: 6, Text: '有限公司（简称“倍臣水务”）函告，  2009 年 4 月 3 日至 7 月 20 日'),\n",
       " Sentence (Doc: 'SH600283_2009-07-21_54901568s', Sec: 0, Par: 7, Idx: 7, Text: '收市时，倍臣水务通过上海证券交易所系统出售其持有的本公司无限'),\n",
       " Sentence (Doc: 'SH600283_2009-07-21_54901568s', Sec: 0, Par: 8, Idx: 8, Text: '售条件流通股共计 3,493,900 股，占公司总股本的 1.226%。本次减持'),\n",
       " Sentence (Doc: 'SH600283_2009-07-21_54901568s', Sec: 0, Par: 9, Idx: 9, Text: '价格区间为最低价 8.96 元，最高价为  11.10 元，平均价格为  10.03'),\n",
       " Sentence (Doc: 'SH600283_2009-07-21_54901568s', Sec: 0, Par: 10, Idx: 10, Text: '元。'),\n",
       " Sentence (Doc: 'SH600283_2009-07-21_54901568s', Sec: 0, Par: 11, Idx: 11, Text: '本次减持后，倍臣水务持有本公司股份 6,069,300 股，占公司总'),\n",
       " Sentence (Doc: 'SH600283_2009-07-21_54901568s', Sec: 0, Par: 12, Idx: 12, Text: '股本的 2.12%，其中：有限售条件流通股股 3,832,326 股，无限售条'),\n",
       " Sentence (Doc: 'SH600283_2009-07-21_54901568s', Sec: 0, Par: 13, Idx: 13, Text: '件流通股股 2,236,974 股。为本公司第四大股东。'),\n",
       " Sentence (Doc: 'SH600283_2009-07-21_54901568s', Sec: 0, Par: 14, Idx: 14, Text: '按照有关规定，本公司代为履行公告义务。'),\n",
       " Sentence (Doc: 'SH600283_2009-07-21_54901568s', Sec: 0, Par: 15, Idx: 15, Text: '特此公告。'),\n",
       " Sentence (Doc: 'SH600283_2009-07-21_54901568s', Sec: 0, Par: 16, Idx: 16, Text: '钱江水利开发股份有限公司董事会'),\n",
       " Sentence (Doc: 'SH600283_2009-07-21_54901568s', Sec: 0, Par: 17, Idx: 17, Text: '2009 年 7 月 20 日'),\n",
       " Sentence (Doc: 'SZ001696_2013-07-12s', Sec: 0, Par: 0, Idx: 0, Text: '证券代码：001696          证券简称：宗申动力       公告编号： 2013-40'),\n",
       " Sentence (Doc: 'SZ001696_2013-07-12s', Sec: 0, Par: 1, Idx: 1, Text: '债券代码：112045          债券简称：11 宗申债'),\n",
       " Sentence (Doc: 'SZ001696_2013-07-12s', Sec: 0, Par: 2, Idx: 2, Text: '重庆宗申动力机械股份有限公司'),\n",
       " Sentence (Doc: 'SZ001696_2013-07-12s', Sec: 0, Par: 3, Idx: 3, Text: '关于回购社会公众股份数超过总股本'),\n",
       " Sentence (Doc: 'SZ001696_2013-07-12s', Sec: 0, Par: 4, Idx: 4, Text: '2%'),\n",
       " Sentence (Doc: 'SZ001696_2013-07-12s', Sec: 0, Par: 5, Idx: 5, Text: '的公告'),\n",
       " Sentence (Doc: 'SZ001696_2013-07-12s', Sec: 0, Par: 6, Idx: 6, Text: '本公司及董事会全体成员保证信息披露的内容真实、准确、完整，没有虚'),\n",
       " Sentence (Doc: 'SZ001696_2013-07-12s', Sec: 0, Par: 7, Idx: 7, Text: '假记载、误导性陈述或重大遗漏。'),\n",
       " Sentence (Doc: 'SZ001696_2013-07-12s', Sec: 0, Par: 8, Idx: 8, Text: '重庆宗申动力机械股份有限公司（以下简称“公司”'),\n",
       " Sentence (Doc: 'SZ001696_2013-07-12s', Sec: 0, Par: 9, Idx: 9, Text: '）回购部分社会公众股'),\n",
       " Sentence (Doc: 'SZ001696_2013-07-12s', Sec: 0, Par: 10, Idx: 10, Text: '份的方案于 2013 年 5 月 10 日经公司 2012 年年度股东大会审议通过，并于 2013'),\n",
       " Sentence (Doc: 'SZ001696_2013-07-12s', Sec: 0, Par: 11, Idx: 11, Text: '年 6 月 14 日在《中国证券报》'),\n",
       " Sentence (Doc: 'SZ001696_2013-07-12s', Sec: 0, Par: 12, Idx: 12, Text: '、'),\n",
       " Sentence (Doc: 'SZ001696_2013-07-12s', Sec: 0, Par: 13, Idx: 13, Text: '《证券时报》'),\n",
       " Sentence (Doc: 'SZ001696_2013-07-12s', Sec: 0, Par: 14, Idx: 14, Text: '、'),\n",
       " Sentence (Doc: 'SZ001696_2013-07-12s', Sec: 0, Par: 15, Idx: 15, Text: '《证券日报》'),\n",
       " Sentence (Doc: 'SZ001696_2013-07-12s', Sec: 0, Par: 16, Idx: 16, Text: '、'),\n",
       " Sentence (Doc: 'SZ001696_2013-07-12s', Sec: 0, Par: 17, Idx: 17, Text: '《上海证券报》以及'),\n",
       " Sentence (Doc: 'SZ001696_2013-07-12s', Sec: 0, Par: 18, Idx: 18, Text: '巨潮资讯网上刊登了《关于回购部分社会公众股份的报告书》。根据《深圳证券'),\n",
       " Sentence (Doc: 'SZ001696_2013-07-12s', Sec: 0, Par: 19, Idx: 19, Text: '交易所上市公司以集中竞价交易方式回购股份业务指引》的有关规定，现将公司'),\n",
       " Sentence (Doc: 'SZ001696_2013-07-12s', Sec: 0, Par: 20, Idx: 20, Text: '股份回购进展情况公告如下'),\n",
       " Sentence (Doc: 'SZ001696_2013-07-12s', Sec: 0, Par: 21, Idx: 21, Text: '截止 2013 年 7 月 11 日，公司回购股数量为 23,752,504 股，占公司总股本'),\n",
       " Sentence (Doc: 'SZ001696_2013-07-12s', Sec: 0, Par: 22, Idx: 22, Text: '的比例为 2.00％，成交的最高价为 5.28 元/股，最低价为 4.40 元/股，支付总'),\n",
       " Sentence (Doc: 'SZ001696_2013-07-12s', Sec: 0, Par: 23, Idx: 23, Text: '金额约为 11,549.41 万元（含印花税、佣金等交易费用）。'),\n",
       " Sentence (Doc: 'SZ001696_2013-07-12s', Sec: 0, Par: 24, Idx: 24, Text: '回购股份的期限为自股东大会通过回购股份方案之日起 6 个月内(即 2013'),\n",
       " Sentence (Doc: 'SZ001696_2013-07-12s', Sec: 0, Par: 25, Idx: 25, Text: '年 11 月 9 日止)。公司将依据相关规定严格履行信息披露义务。'),\n",
       " Sentence (Doc: 'SZ001696_2013-07-12s', Sec: 0, Par: 26, Idx: 26, Text: '特此公告。'),\n",
       " Sentence (Doc: 'SZ001696_2013-07-12s', Sec: 0, Par: 27, Idx: 27, Text: '重庆宗申动力机械股份有限公司'),\n",
       " Sentence (Doc: 'SZ001696_2013-07-12s', Sec: 0, Par: 28, Idx: 28, Text: '董事会'),\n",
       " Sentence (Doc: 'SZ001696_2013-07-12s', Sec: 0, Par: 29, Idx: 29, Text: '2013 年 7 月 12 日'),\n",
       " Sentence (Doc: 'SZ001696_2013-07-12s', Sec: 0, Par: 30, Idx: 30, Text: '1'),\n",
       " Sentence (Doc: 'SZ001696_2013-07-12s', Sec: 0, Par: 31, Idx: 31, Text: '/'),\n",
       " Sentence (Doc: 'SZ001696_2013-07-12s', Sec: 0, Par: 32, Idx: 32, Text: '1')]"
      ]
     },
     "execution_count": 51,
     "metadata": {},
     "output_type": "execute_result"
    }
   ],
   "source": [
    "sens"
   ]
  },
  {
   "cell_type": "code",
   "execution_count": 42,
   "metadata": {},
   "outputs": [],
   "source": [
    "TextDocPreprocessor?"
   ]
  },
  {
   "cell_type": "code",
   "execution_count": 43,
   "metadata": {},
   "outputs": [],
   "source": [
    "Parser?"
   ]
  },
  {
   "cell_type": "code",
   "execution_count": 52,
   "metadata": {},
   "outputs": [],
   "source": [
    "from pdfminer.pdfinterp import PDFResourceManager, PDFPageInterpreter\n",
    "from pdfminer.converter import HTMLConverter,TextConverter,XMLConverter\n",
    "from pdfminer.layout import LAParams\n",
    "from pdfminer.pdfpage import PDFPage\n",
    "import io\n"
   ]
  },
  {
   "cell_type": "code",
   "execution_count": null,
   "metadata": {},
   "outputs": [],
   "source": [
    "def convert(case, pdfpath, targetfilepath, pages=100):\n",
    "    if not pages: pagenums = set();\n",
    "    else:         pagenums = set(pages);\n",
    "    manager = PDFResourceManager()\n",
    "    codec = 'utf-8'\n",
    "    caching = True\n",
    "    word_margin = 1\n",
    "    laparams2 = LAParams(all_texts=True, detect_vertical=False,\n",
    "                      line_overlap=0.5, char_margin=10, #set char_margin to a large number\n",
    "                      line_margin=0.1, word_margin=0.5,\n",
    "                      boxes_flow=None)\n",
    "\n",
    "    if case == 'text':\n",
    "        output = io.StringIO()\n",
    "        converter = TextConverter(manager, output, codec=codec, laparams=LAParams())\n",
    "    if case == 'HTML':\n",
    "        output = io.BytesIO()\n",
    "        converter = HTMLConverter(manager, output, codec=codec, laparams=LAParams())\n",
    "    if case == 'XML':\n",
    "        output = io.BytesIO()\n",
    "        converter = XMLConverter(manager, output, codec=codec, laparams= laparams2)\n",
    "\n",
    "    interpreter = PDFPageInterpreter(manager, converter)\n",
    "    infile = open(pdfpath, 'rb')\n",
    "\n",
    "    for page in PDFPage.get_pages(infile, pagenums,caching=caching, check_extractable=True):\n",
    "        interpreter.process_page(page)\n",
    "\n",
    "    convertedPDF = output.getvalue()\n",
    "\n",
    "    infile.close(); converter.close(); output.close()\n",
    "\n",
    "    convertedFile = open(targetfilepath, 'wb')\n",
    "    convertedFile.write(convertedPDF)\n",
    "    convertedFile.close()\n",
    "\n",
    "print(convert('XML', 'data/SH600283_2009-07-21_54901568.pdf', 'data/test.xml', pages=None))"
   ]
  },
  {
   "cell_type": "code",
   "execution_count": null,
   "metadata": {},
   "outputs": [],
   "source": [
    "from pdfminer.converter import PDFPageAggregator\n",
    "from pdfminer.layout import LAParams\n",
    "from pdfminer.layout import LTTextBoxHorizontal\n",
    "from pdfminer.pdfinterp import PDFPageInterpreter\n",
    "from pdfminer.pdfinterp import PDFResourceManager\n",
    "from pdfminer.pdfpage import PDFPage"
   ]
  },
  {
   "cell_type": "code",
   "execution_count": null,
   "metadata": {},
   "outputs": [],
   "source": [
    "def get_mulu_text1(pdf_path):\n",
    "    if not pages: \n",
    "        pagenums = set();\n",
    "    else:\n",
    "        pagenums = set(pages);\n",
    "        \n",
    "    resource_manager = PDFResourceManager()\n",
    "    page_aggregator = PDFPageAggregator(resource_manager, laparams=LAParams())\n",
    "    page_interpreter = PDFPageInterpreter(resource_manager, page_aggregator)\n",
    "\n",
    "    with open(pdf_path, 'rb') as fin:\n",
    "        for page in PDFPage.get_pages(fin, pagenos=[0]):\n",
    "            page_interpreter.process_page(page)\n",
    "            layout = page_aggregator.get_result()\n",
    "            for element in layout:\n",
    "                if isinstance(element, LTTextBoxHorizontal):\n",
    "                    print(element.get_text())\n",
    "\n",
    "\n",
    "get_mulu_text1('./data/SH600283_2009-07-21_54901568.pdf')"
   ]
  }
 ],
 "metadata": {
  "kernelspec": {
   "display_name": "Python 3",
   "language": "python",
   "name": "python3"
  },
  "language_info": {
   "codemirror_mode": {
    "name": "ipython",
    "version": 3
   },
   "file_extension": ".py",
   "mimetype": "text/x-python",
   "name": "python",
   "nbconvert_exporter": "python",
   "pygments_lexer": "ipython3",
   "version": "3.6.9"
  }
 },
 "nbformat": 4,
 "nbformat_minor": 2
}
