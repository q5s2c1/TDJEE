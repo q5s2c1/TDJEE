{
 "cells": [
  {
   "cell_type": "code",
   "execution_count": 1,
   "metadata": {},
   "outputs": [],
   "source": [
    "! createdb financial_event"
   ]
  },
  {
   "cell_type": "code",
   "execution_count": 2,
   "metadata": {},
   "outputs": [],
   "source": [
    "%load_ext autoreload\n",
    "%autoreload 2\n",
    "%matplotlib inline\n",
    "import os\n",
    "import sys\n",
    "import logging\n",
    "\n",
    "PARALLEL = 4 # assuming a quad-core machine\n",
    "ATTRIBUTE = \"financial_event\"\n",
    "conn_string = 'postgresql://localhost:5432/' + ATTRIBUTE"
   ]
  },
  {
   "cell_type": "code",
   "execution_count": 3,
   "metadata": {},
   "outputs": [
    {
     "name": "stderr",
     "output_type": "stream",
     "text": [
      "[2020-05-09 21:14:11,389][INFO] fonduer.meta:51 - Setting logging directory to: logs/2020-05-09_21-14-11\n",
      "[2020-05-09 21:14:11,455][INFO] fonduer.meta:135 - Connecting user:None to localhost:5432/financial_event\n",
      "[2020-05-09 21:14:13,973][INFO] fonduer.meta:162 - Initializing the storage schema\n"
     ]
    }
   ],
   "source": [
    "from fonduer import Meta, init_logging\n",
    "\n",
    "# Configure logging for Fonduer\n",
    "init_logging(log_dir=\"logs\")\n",
    "\n",
    "session = Meta.init(conn_string).Session()"
   ]
  },
  {
   "cell_type": "code",
   "execution_count": 76,
   "metadata": {},
   "outputs": [],
   "source": [
    "from fonduer.parser.preprocessors import HTMLDocPreprocessor\n",
    "from fonduer.parser import Parser"
   ]
  },
  {
   "cell_type": "code",
   "execution_count": 93,
   "metadata": {},
   "outputs": [
    {
     "name": "stderr",
     "output_type": "stream",
     "text": [
      "[2020-05-10 23:16:18,710][INFO] fonduer.utils.udf:68 - Running UDF...\n"
     ]
    },
    {
     "data": {
      "application/vnd.jupyter.widget-view+json": {
       "model_id": "6e79e560c1084fe489b7952153a15c34",
       "version_major": 2,
       "version_minor": 0
      },
      "text/plain": [
       "HBox(children=(FloatProgress(value=0.0, max=1.0), HTML(value='')))"
      ]
     },
     "metadata": {},
     "output_type": "display_data"
    },
    {
     "name": "stderr",
     "output_type": "stream",
     "text": [
      "[2020-05-10 23:16:18,906][WARNING] fonduer.parser.parser:224 - Lingual mode will be turned off, as spacy doesn't provide support for this language (zh)\n",
      "[2020-05-10 23:16:18,910][WARNING] fonduer.parser.parser:224 - Lingual mode will be turned off, as spacy doesn't provide support for this language (zh)\n",
      "[2020-05-10 23:16:18,913][WARNING] fonduer.parser.parser:224 - Lingual mode will be turned off, as spacy doesn't provide support for this language (zh)\n",
      "[2020-05-10 23:16:18,915][WARNING] fonduer.parser.parser:224 - Lingual mode will be turned off, as spacy doesn't provide support for this language (zh)\n",
      "Building prefix dict from the default dictionary ...\n",
      "[2020-05-10 23:16:19,028][DEBUG] jieba:113 - Building prefix dict from the default dictionary ...\n",
      "Loading model from cache /var/folders/fp/tf276mb96jv23y3jfxvvk29c0000gn/T/jieba.cache\n",
      "[2020-05-10 23:16:19,037][DEBUG] jieba:133 - Loading model from cache /var/folders/fp/tf276mb96jv23y3jfxvvk29c0000gn/T/jieba.cache\n",
      "Loading model cost 0.755 seconds.\n",
      "[2020-05-10 23:16:19,792][DEBUG] jieba:165 - Loading model cost 0.755 seconds.\n",
      "Prefix dict has been built successfully.\n",
      "[2020-05-10 23:16:19,798][DEBUG] jieba:166 - Prefix dict has been built successfully.\n",
      "/anaconda3/envs/dp/lib/python3.6/site-packages/fonduer/parser/parser.py:283: UserWarning: Document dddd not added to database, because of parse error: \n",
      "list index out of range\n",
      "  f\"Document {document.name} not added to database, \"\n"
     ]
    },
    {
     "name": "stdout",
     "output_type": "stream",
     "text": [
      "\n",
      "CPU times: user 296 ms, sys: 64.2 ms, total: 360 ms\n",
      "Wall time: 1.85 s\n"
     ]
    }
   ],
   "source": [
    "docs_path = \"data/\"\n",
    "doc_preprocessor = HTMLDocPreprocessor(docs_path)\n",
    "corpus_parser = Parser(session, language='zh', structural=True, lingual=True)\n",
    "%time corpus_parser.apply(doc_preprocessor, parallelism=PARALLEL)"
   ]
  },
  {
   "cell_type": "code",
   "execution_count": 94,
   "metadata": {},
   "outputs": [
    {
     "name": "stdout",
     "output_type": "stream",
     "text": [
      "Documents: 0\n",
      "Sentences: 0\n"
     ]
    }
   ],
   "source": [
    "from fonduer.parser.models import Document, Sentence\n",
    "\n",
    "print(f\"Documents: {session.query(Document).count()}\")\n",
    "print(f\"Sentences: {session.query(Sentence).count()}\")"
   ]
  },
  {
   "cell_type": "code",
   "execution_count": 21,
   "metadata": {},
   "outputs": [
    {
     "name": "stdout",
     "output_type": "stream",
     "text": [
      "['SZ001696_2013-07-12s', 'SH600283_2009-07-21_54901568s']\n"
     ]
    }
   ],
   "source": [
    "docs = session.query(Document).order_by(Document.name).all()\n",
    "ld = len(docs)\n",
    "\n",
    "train_docs = set()\n",
    "dev_docs = set()\n",
    "test_docs = set()\n",
    "splits = (0.7, 0.85)\n",
    "data = [(doc.name, doc) for doc in docs]\n",
    "data.sort(key=lambda x: x[0])\n",
    "for i, (doc_name, doc) in enumerate(data):\n",
    "    if i < splits[0] * ld:\n",
    "        train_docs.add(doc)\n",
    "    elif i < splits[1] * ld:\n",
    "        dev_docs.add(doc)\n",
    "    else:\n",
    "        test_docs.add(doc)\n",
    "from pprint import pprint\n",
    "\n",
    "pprint([x.name for x in train_docs])"
   ]
  },
  {
   "cell_type": "code",
   "execution_count": 27,
   "metadata": {},
   "outputs": [],
   "source": [
    "from fonduer.candidates.models import mention_subclass\n",
    "\n",
    "Presidentname = mention_subclass(\"Presidentname\")\n",
    "Placeofbirth = mention_subclass(\"Placeofbirth\")"
   ]
  },
  {
   "cell_type": "code",
   "execution_count": 95,
   "metadata": {},
   "outputs": [],
   "source": [
    "sens = session.query(Sentence).all()"
   ]
  },
  {
   "cell_type": "code",
   "execution_count": 96,
   "metadata": {},
   "outputs": [
    {
     "data": {
      "text/plain": [
       "[]"
      ]
     },
     "execution_count": 96,
     "metadata": {},
     "output_type": "execute_result"
    }
   ],
   "source": [
    "sens"
   ]
  },
  {
   "cell_type": "code",
   "execution_count": 42,
   "metadata": {},
   "outputs": [],
   "source": [
    "TextDocPreprocessor?"
   ]
  },
  {
   "cell_type": "code",
   "execution_count": 43,
   "metadata": {},
   "outputs": [],
   "source": [
    "Parser?"
   ]
  },
  {
   "cell_type": "code",
   "execution_count": 52,
   "metadata": {},
   "outputs": [],
   "source": [
    "from pdfminer.pdfinterp import PDFResourceManager, PDFPageInterpreter\n",
    "from pdfminer.converter import HTMLConverter,TextConverter,XMLConverter\n",
    "from pdfminer.layout import LAParams\n",
    "from pdfminer.pdfpage import PDFPage\n",
    "import io\n",
    "\n",
    "from pdfminer.converter import PDFPageAggregator\n",
    "from pdfminer.layout import LAParams\n",
    "from pdfminer.layout import LTTextBoxHorizontal\n",
    "from pdfminer.pdfinterp import PDFPageInterpreter\n",
    "from pdfminer.pdfinterp import PDFResourceManager\n",
    "from pdfminer.pdfpage import PDFPage"
   ]
  },
  {
   "cell_type": "code",
   "execution_count": null,
   "metadata": {},
   "outputs": [],
   "source": [
    "def convert(case, pdfpath, targetfilepath, pages=100):\n",
    "    if not pages: pagenums = set();\n",
    "    else:         pagenums = set(pages);\n",
    "    manager = PDFResourceManager()\n",
    "    codec = 'utf-8'\n",
    "    caching = True\n",
    "    word_margin = 1\n",
    "    laparams2 = LAParams(all_texts=True, detect_vertical=False,\n",
    "                      line_overlap=0.5, char_margin=10, #set char_margin to a large number\n",
    "                      line_margin=0.1, word_margin=0.5,\n",
    "                      boxes_flow=None)\n",
    "\n",
    "    if case == 'text':\n",
    "        output = io.StringIO()\n",
    "        converter = TextConverter(manager, output, codec=codec, laparams=LAParams())\n",
    "    if case == 'HTML':\n",
    "        output = io.BytesIO()\n",
    "        converter = HTMLConverter(manager, output, codec=codec, laparams=LAParams())\n",
    "    if case == 'XML':\n",
    "        output = io.BytesIO()\n",
    "        converter = XMLConverter(manager, output, codec=codec, laparams= laparams2)\n",
    "\n",
    "    interpreter = PDFPageInterpreter(manager, converter)\n",
    "    infile = open(pdfpath, 'rb')\n",
    "\n",
    "    for page in PDFPage.get_pages(infile, pagenums,caching=caching, check_extractable=True):\n",
    "        interpreter.process_page(page)\n",
    "\n",
    "    convertedPDF = output.getvalue()\n",
    "\n",
    "    infile.close(); converter.close(); output.close()\n",
    "\n",
    "    convertedFile = open(targetfilepath, 'wb')\n",
    "    convertedFile.write(convertedPDF)\n",
    "    convertedFile.close()\n",
    "\n",
    "print(convert('XML', 'data/SH600283_2009-07-21_54901568.pdf', 'data/test.xml', pages=None))"
   ]
  },
  {
   "cell_type": "code",
   "execution_count": 68,
   "metadata": {},
   "outputs": [
    {
     "name": "stderr",
     "output_type": "stream",
     "text": [
      "[2020-05-10 16:25:53,397][INFO] pdfminer.pdfdocument:773 - xref found: pos=b'30743'\n",
      "[2020-05-10 16:25:53,398][INFO] pdfminer.pdfdocument:785 - read_xref_from: start=30743, token=/b'xref'\n",
      "[2020-05-10 16:25:53,399][INFO] pdfminer.pdfdocument:117 - xref objects: {1: (None, 2677, 0), 2: (None, 30169, 0), 3: (None, 2609, 0), 4: (None, 2467, 0), 5: (None, 15, 0), 6: (None, 2447, 0), 7: (None, 2742, 0), 8: (None, 5110, 0), 9: (None, 3096, 0), 10: (None, 9882, 0), 11: (None, 3791, 0), 12: (None, 2820, 0), 13: (None, 3637, 0), 14: (None, 2951, 0), 15: (None, 5427, 0), 16: (None, 2899, 0), 17: (None, 5635, 0), 18: (None, 10139, 0), 19: (None, 3228, 0), 20: (None, 3874, 0), 21: (None, 3934, 0), 22: (None, 5262, 0), 23: (None, 9532, 0), 24: (None, 28372, 0)}\n",
      "[2020-05-10 16:25:53,401][INFO] pdfminer.pdfdocument:799 - trailer: {'Size': 25, 'Root': <PDFObjRef:1>, 'Info': <PDFObjRef:2>, 'ID': [b\"\\xdc\\x04\\x0e1\\x10\\xdb\\xb2\\xb0\\xa2'\\xbe~\\xc1\\x93\\x06\\x96\", b\"\\xdc\\x04\\x0e1\\x10\\xdb\\xb2\\xb0\\xa2'\\xbe~\\xc1\\x93\\x06\\x96\"]}\n",
      "[2020-05-10 16:25:53,412][INFO] pdfminer.pdfdocument:165 - trailer: {'Size': 25, 'Root': <PDFObjRef:1>, 'Info': <PDFObjRef:2>, 'ID': [b\"\\xdc\\x04\\x0e1\\x10\\xdb\\xb2\\xb0\\xa2'\\xbe~\\xc1\\x93\\x06\\x96\", b\"\\xdc\\x04\\x0e1\\x10\\xdb\\xb2\\xb0\\xa2'\\xbe~\\xc1\\x93\\x06\\x96\"]}\n",
      "[2020-05-10 16:25:53,415][INFO] pdfminer.pdfpage:95 - Pages: Kids=[<PDFObjRef:4>]\n",
      "[2020-05-10 16:25:53,417][INFO] pdfminer.pdfpage:99 - Page: {'Type': /'Page', 'MediaBox': [0, 0, 595, 842], 'Rotate': 0, 'Parent': <PDFObjRef:3>, 'Resources': {'ProcSet': [/'PDF', /'Text'], 'Font': <PDFObjRef:16>}, 'Contents': <PDFObjRef:5>}\n",
      "[2020-05-10 16:25:53,418][INFO] pdfminer.pdfinterp:884 - Processing page: <PDFPage: Resources={'ProcSet': [/'PDF', /'Text'], 'Font': <PDFObjRef:16>}, MediaBox=[0, 0, 595, 842]>\n",
      "[2020-05-10 16:25:53,419][INFO] pdfminer.pdfinterp:905 - render_contents: resources={'ProcSet': [/'PDF', /'Text'], 'Font': <PDFObjRef:16>}, streams=[<PDFStream(5): raw=2362, {'Length': <PDFObjRef:6>, 'Filter': /'FlateDecode'}>], ctm=(1, 0, 0, 1, 0, 0)\n",
      "[2020-05-10 16:25:53,422][INFO] pdfminer.pdfinterp:171 - get_font: create: objid=13, spec={'BaseFont': /b'PFSLZY+\\xba\\xda\\xcc\\xe5-WinCharSetFFFF-H', 'ToUnicode': <PDFObjRef:19>, 'Type': /'Font', 'Encoding': /'Identity-H', 'DescendantFonts': [<PDFObjRef:14>], 'Subtype': /'Type0'}\n",
      "[2020-05-10 16:25:53,424][INFO] pdfminer.pdfinterp:171 - get_font: create: objid=None, spec={'BaseFont': /b'PFSLZY+\\xba\\xda\\xcc\\xe5', 'FontDescriptor': <PDFObjRef:15>, 'Type': /'Font', 'DW': 1000, 'W': [3, [500]], 'CIDSystemInfo': <PDFObjRef:12>, 'Subtype': /'CIDFontType2', 'Encoding': /'Identity-H', 'ToUnicode': <PDFStream(19): raw=342, {'Filter': /'FlateDecode', 'Length': 341}>}\n",
      "[2020-05-10 16:25:53,429][INFO] pdfminer.pdfinterp:171 - get_font: create: objid=11, spec={'BaseFont': /'Times-Roman', 'Type': /'Font', 'Encoding': <PDFObjRef:20>, 'Subtype': /'Type1'}\n",
      "[2020-05-10 16:25:53,432][INFO] pdfminer.pdfinterp:171 - get_font: create: objid=8, spec={'BaseFont': /b'ULLWLN+\\xcb\\xce\\xcc\\xe5-WinCharSetFFFF-H', 'ToUnicode': <PDFObjRef:21>, 'Type': /'Font', 'Encoding': /'Identity-H', 'DescendantFonts': [<PDFObjRef:9>], 'Subtype': /'Type0'}\n",
      "[2020-05-10 16:25:53,436][INFO] pdfminer.pdfinterp:171 - get_font: create: objid=None, spec={'BaseFont': /b'ULLWLN+\\xcb\\xce\\xcc\\xe5', 'FontDescriptor': <PDFObjRef:10>, 'Type': /'Font', 'DW': 1000, 'CIDSystemInfo': <PDFObjRef:7>, 'Subtype': /'CIDFontType2', 'Encoding': /'Identity-H', 'ToUnicode': <PDFStream(21): raw=1108, {'Filter': /'FlateDecode', 'Length': 1107}>}\n"
     ]
    },
    {
     "ename": "TypeError",
     "evalue": "a bytes-like object is required, not 'str'",
     "output_type": "error",
     "traceback": [
      "\u001b[0;31m---------------------------------------------------------------------------\u001b[0m",
      "\u001b[0;31mTypeError\u001b[0m                                 Traceback (most recent call last)",
      "\u001b[0;32m<ipython-input-68-89128e09761c>\u001b[0m in \u001b[0;36m<module>\u001b[0;34m\u001b[0m\n\u001b[1;32m     25\u001b[0m     \u001b[0mconvertedFile\u001b[0m\u001b[0;34m.\u001b[0m\u001b[0mclose\u001b[0m\u001b[0;34m(\u001b[0m\u001b[0;34m)\u001b[0m\u001b[0;34m\u001b[0m\u001b[0;34m\u001b[0m\u001b[0m\n\u001b[1;32m     26\u001b[0m \u001b[0;34m\u001b[0m\u001b[0m\n\u001b[0;32m---> 27\u001b[0;31m \u001b[0mget_mulu_text1\u001b[0m\u001b[0;34m(\u001b[0m\u001b[0;34m'./data/SH600283_2009-07-21_54901568.pdf'\u001b[0m\u001b[0;34m,\u001b[0m \u001b[0;34m'./again.xml'\u001b[0m\u001b[0;34m,\u001b[0m \u001b[0mpages\u001b[0m\u001b[0;34m=\u001b[0m\u001b[0;32mNone\u001b[0m\u001b[0;34m)\u001b[0m\u001b[0;34m\u001b[0m\u001b[0;34m\u001b[0m\u001b[0m\n\u001b[0m",
      "\u001b[0;32m<ipython-input-68-89128e09761c>\u001b[0m in \u001b[0;36mget_mulu_text1\u001b[0;34m(pdf_path, targetfilepath, pages)\u001b[0m\n\u001b[1;32m     16\u001b[0m     \u001b[0;32mwith\u001b[0m \u001b[0mopen\u001b[0m\u001b[0;34m(\u001b[0m\u001b[0mpdf_path\u001b[0m\u001b[0;34m,\u001b[0m \u001b[0;34m'rb'\u001b[0m\u001b[0;34m)\u001b[0m \u001b[0;32mas\u001b[0m \u001b[0mfin\u001b[0m\u001b[0;34m:\u001b[0m\u001b[0;34m\u001b[0m\u001b[0;34m\u001b[0m\u001b[0m\n\u001b[1;32m     17\u001b[0m         \u001b[0;32mfor\u001b[0m \u001b[0mpage\u001b[0m \u001b[0;32min\u001b[0m \u001b[0mPDFPage\u001b[0m\u001b[0;34m.\u001b[0m\u001b[0mget_pages\u001b[0m\u001b[0;34m(\u001b[0m\u001b[0mfin\u001b[0m\u001b[0;34m,\u001b[0m \u001b[0mpagenums\u001b[0m\u001b[0;34m,\u001b[0m \u001b[0mcaching\u001b[0m\u001b[0;34m=\u001b[0m\u001b[0mcaching\u001b[0m\u001b[0;34m)\u001b[0m\u001b[0;34m:\u001b[0m\u001b[0;34m\u001b[0m\u001b[0;34m\u001b[0m\u001b[0m\n\u001b[0;32m---> 18\u001b[0;31m             \u001b[0mpage_interpreter\u001b[0m\u001b[0;34m.\u001b[0m\u001b[0mprocess_page\u001b[0m\u001b[0;34m(\u001b[0m\u001b[0mpage\u001b[0m\u001b[0;34m)\u001b[0m\u001b[0;34m\u001b[0m\u001b[0;34m\u001b[0m\u001b[0m\n\u001b[0m\u001b[1;32m     19\u001b[0m \u001b[0;34m\u001b[0m\u001b[0m\n\u001b[1;32m     20\u001b[0m     \u001b[0mconvertedPDF\u001b[0m \u001b[0;34m=\u001b[0m \u001b[0moutput\u001b[0m\u001b[0;34m.\u001b[0m\u001b[0mgetvalue\u001b[0m\u001b[0;34m(\u001b[0m\u001b[0;34m)\u001b[0m\u001b[0;34m\u001b[0m\u001b[0;34m\u001b[0m\u001b[0m\n",
      "\u001b[0;32m/anaconda3/envs/dp/lib/python3.6/site-packages/pdfminer.six-20200124-py3.6.egg/pdfminer/pdfinterp.py\u001b[0m in \u001b[0;36mprocess_page\u001b[0;34m(self, page)\u001b[0m\n\u001b[1;32m    894\u001b[0m         \u001b[0mself\u001b[0m\u001b[0;34m.\u001b[0m\u001b[0mdevice\u001b[0m\u001b[0;34m.\u001b[0m\u001b[0mbegin_page\u001b[0m\u001b[0;34m(\u001b[0m\u001b[0mpage\u001b[0m\u001b[0;34m,\u001b[0m \u001b[0mctm\u001b[0m\u001b[0;34m)\u001b[0m\u001b[0;34m\u001b[0m\u001b[0;34m\u001b[0m\u001b[0m\n\u001b[1;32m    895\u001b[0m         \u001b[0mself\u001b[0m\u001b[0;34m.\u001b[0m\u001b[0mrender_contents\u001b[0m\u001b[0;34m(\u001b[0m\u001b[0mpage\u001b[0m\u001b[0;34m.\u001b[0m\u001b[0mresources\u001b[0m\u001b[0;34m,\u001b[0m \u001b[0mpage\u001b[0m\u001b[0;34m.\u001b[0m\u001b[0mcontents\u001b[0m\u001b[0;34m,\u001b[0m \u001b[0mctm\u001b[0m\u001b[0;34m=\u001b[0m\u001b[0mctm\u001b[0m\u001b[0;34m)\u001b[0m\u001b[0;34m\u001b[0m\u001b[0;34m\u001b[0m\u001b[0m\n\u001b[0;32m--> 896\u001b[0;31m         \u001b[0mself\u001b[0m\u001b[0;34m.\u001b[0m\u001b[0mdevice\u001b[0m\u001b[0;34m.\u001b[0m\u001b[0mend_page\u001b[0m\u001b[0;34m(\u001b[0m\u001b[0mpage\u001b[0m\u001b[0;34m)\u001b[0m\u001b[0;34m\u001b[0m\u001b[0;34m\u001b[0m\u001b[0m\n\u001b[0m\u001b[1;32m    897\u001b[0m         \u001b[0;32mreturn\u001b[0m\u001b[0;34m\u001b[0m\u001b[0;34m\u001b[0m\u001b[0m\n\u001b[1;32m    898\u001b[0m \u001b[0;34m\u001b[0m\u001b[0m\n",
      "\u001b[0;32m/anaconda3/envs/dp/lib/python3.6/site-packages/pdfminer.six-20200124-py3.6.egg/pdfminer/converter.py\u001b[0m in \u001b[0;36mend_page\u001b[0;34m(self, page)\u001b[0m\n\u001b[1;32m     49\u001b[0m             \u001b[0mself\u001b[0m\u001b[0;34m.\u001b[0m\u001b[0mcur_item\u001b[0m\u001b[0;34m.\u001b[0m\u001b[0manalyze\u001b[0m\u001b[0;34m(\u001b[0m\u001b[0mself\u001b[0m\u001b[0;34m.\u001b[0m\u001b[0mlaparams\u001b[0m\u001b[0;34m)\u001b[0m\u001b[0;34m\u001b[0m\u001b[0;34m\u001b[0m\u001b[0m\n\u001b[1;32m     50\u001b[0m         \u001b[0mself\u001b[0m\u001b[0;34m.\u001b[0m\u001b[0mpageno\u001b[0m \u001b[0;34m+=\u001b[0m \u001b[0;36m1\u001b[0m\u001b[0;34m\u001b[0m\u001b[0;34m\u001b[0m\u001b[0m\n\u001b[0;32m---> 51\u001b[0;31m         \u001b[0mself\u001b[0m\u001b[0;34m.\u001b[0m\u001b[0mreceive_layout\u001b[0m\u001b[0;34m(\u001b[0m\u001b[0mself\u001b[0m\u001b[0;34m.\u001b[0m\u001b[0mcur_item\u001b[0m\u001b[0;34m)\u001b[0m\u001b[0;34m\u001b[0m\u001b[0;34m\u001b[0m\u001b[0m\n\u001b[0m\u001b[1;32m     52\u001b[0m         \u001b[0;32mreturn\u001b[0m\u001b[0;34m\u001b[0m\u001b[0;34m\u001b[0m\u001b[0m\n\u001b[1;32m     53\u001b[0m \u001b[0;34m\u001b[0m\u001b[0m\n",
      "\u001b[0;32m/anaconda3/envs/dp/lib/python3.6/site-packages/pdfminer.six-20200124-py3.6.egg/pdfminer/converter.py\u001b[0m in \u001b[0;36mreceive_layout\u001b[0;34m(self, ltpage)\u001b[0m\n\u001b[1;32m    440\u001b[0m                         \u001b[0mself\u001b[0m\u001b[0;34m.\u001b[0m\u001b[0mwrite_text\u001b[0m\u001b[0;34m(\u001b[0m\u001b[0mitem\u001b[0m\u001b[0;34m.\u001b[0m\u001b[0mget_text\u001b[0m\u001b[0;34m(\u001b[0m\u001b[0;34m)\u001b[0m\u001b[0;34m)\u001b[0m\u001b[0;34m\u001b[0m\u001b[0;34m\u001b[0m\u001b[0m\n\u001b[1;32m    441\u001b[0m             \u001b[0;32mreturn\u001b[0m\u001b[0;34m\u001b[0m\u001b[0;34m\u001b[0m\u001b[0m\n\u001b[0;32m--> 442\u001b[0;31m         \u001b[0mrender\u001b[0m\u001b[0;34m(\u001b[0m\u001b[0mltpage\u001b[0m\u001b[0;34m)\u001b[0m\u001b[0;34m\u001b[0m\u001b[0;34m\u001b[0m\u001b[0m\n\u001b[0m\u001b[1;32m    443\u001b[0m         \u001b[0mself\u001b[0m\u001b[0;34m.\u001b[0m\u001b[0m_yoffset\u001b[0m \u001b[0;34m+=\u001b[0m \u001b[0mself\u001b[0m\u001b[0;34m.\u001b[0m\u001b[0mpagemargin\u001b[0m\u001b[0;34m\u001b[0m\u001b[0;34m\u001b[0m\u001b[0m\n\u001b[1;32m    444\u001b[0m         \u001b[0;32mreturn\u001b[0m\u001b[0;34m\u001b[0m\u001b[0;34m\u001b[0m\u001b[0m\n",
      "\u001b[0;32m/anaconda3/envs/dp/lib/python3.6/site-packages/pdfminer.six-20200124-py3.6.egg/pdfminer/converter.py\u001b[0m in \u001b[0;36mrender\u001b[0;34m(item)\u001b[0m\n\u001b[1;32m    390\u001b[0m                                .format(item.pageid, item.pageid))\n\u001b[1;32m    391\u001b[0m                 \u001b[0;32mfor\u001b[0m \u001b[0mchild\u001b[0m \u001b[0;32min\u001b[0m \u001b[0mitem\u001b[0m\u001b[0;34m:\u001b[0m\u001b[0;34m\u001b[0m\u001b[0;34m\u001b[0m\u001b[0m\n\u001b[0;32m--> 392\u001b[0;31m                     \u001b[0mrender\u001b[0m\u001b[0;34m(\u001b[0m\u001b[0mchild\u001b[0m\u001b[0;34m)\u001b[0m\u001b[0;34m\u001b[0m\u001b[0;34m\u001b[0m\u001b[0m\n\u001b[0m\u001b[1;32m    393\u001b[0m                 \u001b[0;32mif\u001b[0m \u001b[0mitem\u001b[0m\u001b[0;34m.\u001b[0m\u001b[0mgroups\u001b[0m \u001b[0;32mis\u001b[0m \u001b[0;32mnot\u001b[0m \u001b[0;32mNone\u001b[0m\u001b[0;34m:\u001b[0m\u001b[0;34m\u001b[0m\u001b[0;34m\u001b[0m\u001b[0m\n\u001b[1;32m    394\u001b[0m                     \u001b[0;32mfor\u001b[0m \u001b[0mgroup\u001b[0m \u001b[0;32min\u001b[0m \u001b[0mitem\u001b[0m\u001b[0;34m.\u001b[0m\u001b[0mgroups\u001b[0m\u001b[0;34m:\u001b[0m\u001b[0;34m\u001b[0m\u001b[0;34m\u001b[0m\u001b[0m\n",
      "\u001b[0;32m/anaconda3/envs/dp/lib/python3.6/site-packages/pdfminer.six-20200124-py3.6.egg/pdfminer/converter.py\u001b[0m in \u001b[0;36mrender\u001b[0;34m(item)\u001b[0m\n\u001b[1;32m    432\u001b[0m                                        item.get_writing_mode())\n\u001b[1;32m    433\u001b[0m                         \u001b[0;32mfor\u001b[0m \u001b[0mchild\u001b[0m \u001b[0;32min\u001b[0m \u001b[0mitem\u001b[0m\u001b[0;34m:\u001b[0m\u001b[0;34m\u001b[0m\u001b[0;34m\u001b[0m\u001b[0m\n\u001b[0;32m--> 434\u001b[0;31m                             \u001b[0mrender\u001b[0m\u001b[0;34m(\u001b[0m\u001b[0mchild\u001b[0m\u001b[0;34m)\u001b[0m\u001b[0;34m\u001b[0m\u001b[0;34m\u001b[0m\u001b[0m\n\u001b[0m\u001b[1;32m    435\u001b[0m                         \u001b[0mself\u001b[0m\u001b[0;34m.\u001b[0m\u001b[0mend_div\u001b[0m\u001b[0;34m(\u001b[0m\u001b[0;34m'textbox'\u001b[0m\u001b[0;34m)\u001b[0m\u001b[0;34m\u001b[0m\u001b[0;34m\u001b[0m\u001b[0m\n\u001b[1;32m    436\u001b[0m                     \u001b[0;32melif\u001b[0m \u001b[0misinstance\u001b[0m\u001b[0;34m(\u001b[0m\u001b[0mitem\u001b[0m\u001b[0;34m,\u001b[0m \u001b[0mLTChar\u001b[0m\u001b[0;34m)\u001b[0m\u001b[0;34m:\u001b[0m\u001b[0;34m\u001b[0m\u001b[0;34m\u001b[0m\u001b[0m\n",
      "\u001b[0;32m/anaconda3/envs/dp/lib/python3.6/site-packages/pdfminer.six-20200124-py3.6.egg/pdfminer/converter.py\u001b[0m in \u001b[0;36mrender\u001b[0;34m(item)\u001b[0m\n\u001b[1;32m    424\u001b[0m                     \u001b[0;32mif\u001b[0m \u001b[0misinstance\u001b[0m\u001b[0;34m(\u001b[0m\u001b[0mitem\u001b[0m\u001b[0;34m,\u001b[0m \u001b[0mLTTextLine\u001b[0m\u001b[0;34m)\u001b[0m\u001b[0;34m:\u001b[0m\u001b[0;34m\u001b[0m\u001b[0;34m\u001b[0m\u001b[0m\n\u001b[1;32m    425\u001b[0m                         \u001b[0;32mfor\u001b[0m \u001b[0mchild\u001b[0m \u001b[0;32min\u001b[0m \u001b[0mitem\u001b[0m\u001b[0;34m:\u001b[0m\u001b[0;34m\u001b[0m\u001b[0;34m\u001b[0m\u001b[0m\n\u001b[0;32m--> 426\u001b[0;31m                             \u001b[0mrender\u001b[0m\u001b[0;34m(\u001b[0m\u001b[0mchild\u001b[0m\u001b[0;34m)\u001b[0m\u001b[0;34m\u001b[0m\u001b[0;34m\u001b[0m\u001b[0m\n\u001b[0m\u001b[1;32m    427\u001b[0m                         \u001b[0;32mif\u001b[0m \u001b[0mself\u001b[0m\u001b[0;34m.\u001b[0m\u001b[0mlayoutmode\u001b[0m \u001b[0;34m!=\u001b[0m \u001b[0;34m'loose'\u001b[0m\u001b[0;34m:\u001b[0m\u001b[0;34m\u001b[0m\u001b[0;34m\u001b[0m\u001b[0m\n\u001b[1;32m    428\u001b[0m                             \u001b[0mself\u001b[0m\u001b[0;34m.\u001b[0m\u001b[0mput_newline\u001b[0m\u001b[0;34m(\u001b[0m\u001b[0;34m)\u001b[0m\u001b[0;34m\u001b[0m\u001b[0;34m\u001b[0m\u001b[0m\n",
      "\u001b[0;32m/anaconda3/envs/dp/lib/python3.6/site-packages/pdfminer.six-20200124-py3.6.egg/pdfminer/converter.py\u001b[0m in \u001b[0;36mrender\u001b[0;34m(item)\u001b[0m\n\u001b[1;32m    436\u001b[0m                     \u001b[0;32melif\u001b[0m \u001b[0misinstance\u001b[0m\u001b[0;34m(\u001b[0m\u001b[0mitem\u001b[0m\u001b[0;34m,\u001b[0m \u001b[0mLTChar\u001b[0m\u001b[0;34m)\u001b[0m\u001b[0;34m:\u001b[0m\u001b[0;34m\u001b[0m\u001b[0;34m\u001b[0m\u001b[0m\n\u001b[1;32m    437\u001b[0m                         self.put_text(item.get_text(), item.fontname,\n\u001b[0;32m--> 438\u001b[0;31m                                       item.size)\n\u001b[0m\u001b[1;32m    439\u001b[0m                     \u001b[0;32melif\u001b[0m \u001b[0misinstance\u001b[0m\u001b[0;34m(\u001b[0m\u001b[0mitem\u001b[0m\u001b[0;34m,\u001b[0m \u001b[0mLTText\u001b[0m\u001b[0;34m)\u001b[0m\u001b[0;34m:\u001b[0m\u001b[0;34m\u001b[0m\u001b[0;34m\u001b[0m\u001b[0m\n\u001b[1;32m    440\u001b[0m                         \u001b[0mself\u001b[0m\u001b[0;34m.\u001b[0m\u001b[0mwrite_text\u001b[0m\u001b[0;34m(\u001b[0m\u001b[0mitem\u001b[0m\u001b[0;34m.\u001b[0m\u001b[0mget_text\u001b[0m\u001b[0;34m(\u001b[0m\u001b[0;34m)\u001b[0m\u001b[0;34m)\u001b[0m\u001b[0;34m\u001b[0m\u001b[0;34m\u001b[0m\u001b[0m\n",
      "\u001b[0;32m/anaconda3/envs/dp/lib/python3.6/site-packages/pdfminer.six-20200124-py3.6.egg/pdfminer/converter.py\u001b[0m in \u001b[0;36mput_text\u001b[0;34m(self, text, fontname, fontsize)\u001b[0m\n\u001b[1;32m    360\u001b[0m                 \u001b[0mself\u001b[0m\u001b[0;34m.\u001b[0m\u001b[0mwrite\u001b[0m\u001b[0;34m(\u001b[0m\u001b[0;34m'</span>'\u001b[0m\u001b[0;34m)\u001b[0m\u001b[0;34m\u001b[0m\u001b[0;34m\u001b[0m\u001b[0m\n\u001b[1;32m    361\u001b[0m             \u001b[0;31m# Remove subset tag from fontname, see PDF Reference 5.5.3\u001b[0m\u001b[0;34m\u001b[0m\u001b[0;34m\u001b[0m\u001b[0;34m\u001b[0m\u001b[0m\n\u001b[0;32m--> 362\u001b[0;31m             \u001b[0mfontname_without_subset_tag\u001b[0m \u001b[0;34m=\u001b[0m \u001b[0mfontname\u001b[0m\u001b[0;34m.\u001b[0m\u001b[0msplit\u001b[0m\u001b[0;34m(\u001b[0m\u001b[0;34m'+'\u001b[0m\u001b[0;34m)\u001b[0m\u001b[0;34m[\u001b[0m\u001b[0;34m-\u001b[0m\u001b[0;36m1\u001b[0m\u001b[0;34m]\u001b[0m\u001b[0;34m\u001b[0m\u001b[0;34m\u001b[0m\u001b[0m\n\u001b[0m\u001b[1;32m    363\u001b[0m             self.write('<span style=\"font-family: %s; font-size:%dpx\">' %\n\u001b[1;32m    364\u001b[0m                        (fontname_without_subset_tag,\n",
      "\u001b[0;31mTypeError\u001b[0m: a bytes-like object is required, not 'str'"
     ]
    }
   ],
   "source": [
    "def get_mulu_text1(pdf_path, targetfilepath, pages=100):\n",
    "    if not pages: \n",
    "        pagenums = set();\n",
    "    else:\n",
    "        pagenums = set(pages);\n",
    "    codec = 'utf-8'\n",
    "    caching = True\n",
    "    output = io.BytesIO()\n",
    "    \n",
    "    resource_manager = PDFResourceManager()\n",
    "#     page_aggregator = PDFPageAggregator(resource_manager, laparams=LAParams())\n",
    "    converter = HTMLConverter(resource_manager, output, codec=codec, laparams=LAParams())\n",
    "    page_interpreter = PDFPageInterpreter(resource_manager, converter)\n",
    "\n",
    "    \n",
    "    with open(pdf_path, 'rb') as fin:\n",
    "        for page in PDFPage.get_pages(fin, pagenums, caching=caching):\n",
    "            page_interpreter.process_page(page)\n",
    "        \n",
    "    convertedPDF = output.getvalue()\n",
    "    converter.close(); output.close()\n",
    "\n",
    "    convertedFile = open(targetfilepath, 'wb')\n",
    "    convertedFile.write(convertedPDF)\n",
    "    convertedFile.close()\n",
    "    \n",
    "get_mulu_text1('./data/SH600283_2009-07-21_54901568.pdf', './data/again.xml', pages=None)"
   ]
  },
  {
   "cell_type": "code",
   "execution_count": 85,
   "metadata": {},
   "outputs": [],
   "source": [
    "Parser?"
   ]
  },
  {
   "cell_type": "code",
   "execution_count": null,
   "metadata": {},
   "outputs": [],
   "source": []
  }
 ],
 "metadata": {
  "kernelspec": {
   "display_name": "Python 3",
   "language": "python",
   "name": "python3"
  },
  "language_info": {
   "codemirror_mode": {
    "name": "ipython",
    "version": 3
   },
   "file_extension": ".py",
   "mimetype": "text/x-python",
   "name": "python",
   "nbconvert_exporter": "python",
   "pygments_lexer": "ipython3",
   "version": "3.6.9"
  }
 },
 "nbformat": 4,
 "nbformat_minor": 2
}
